{
 "cells": [
  {
   "cell_type": "code",
   "execution_count": null,
   "metadata": {},
   "outputs": [],
   "source": [
    "import deprecated\n",
    "\n",
    "\n",
    "@deprecated.deprecated('This function will be removed on Feb. 2100.')\n",
    "def some_old_function(x, y):\n",
    "    return x + y\n",
    "\n",
    "\n",
    "@deprecated.deprecated('Use another class.')\n",
    "class SomeOldClass(object):\n",
    "    pass\n",
    "\n",
    "\n",
    "some_old_function(2, 3)\n",
    "\n",
    "old = SomeOldClass()\n"
   ]
  },
  {
   "cell_type": "code",
   "execution_count": null,
   "metadata": {},
   "outputs": [],
   "source": [
    "!!!@@@384yhufj # test the behavior of invalid code\n",
    "\n",
    "\n",
    "some_old_function(2, 3)"
   ]
  },
  {
   "cell_type": "code",
   "execution_count": null,
   "metadata": {},
   "outputs": [],
   "source": []
  }
 ],
 "metadata": {
  "kernelspec": {
   "display_name": "Python 3",
   "language": "python",
   "name": "python3"
  },
  "language_info": {
   "codemirror_mode": {
    "name": "ipython",
    "version": 3
   },
   "file_extension": ".py",
   "mimetype": "text/x-python",
   "name": "python",
   "nbconvert_exporter": "python",
   "pygments_lexer": "ipython3",
   "version": "3.9.2"
  }
 },
 "nbformat": 4,
 "nbformat_minor": 4
}
